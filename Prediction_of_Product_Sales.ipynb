{
  "nbformat": 4,
  "nbformat_minor": 0,
  "metadata": {
    "colab": {
      "provenance": [],
      "authorship_tag": "ABX9TyNbozXd/SDsbhFxdH26FqLn",
      "include_colab_link": true
    },
    "kernelspec": {
      "name": "python3",
      "display_name": "Python 3"
    },
    "language_info": {
      "name": "python"
    }
  },
  "cells": [
    {
      "cell_type": "markdown",
      "metadata": {
        "id": "view-in-github",
        "colab_type": "text"
      },
      "source": [
        "<a href=\"https://colab.research.google.com/github/jvwk/Prediction-of-Product-Sales/blob/main/Prediction_of_Product_Sales.ipynb\" target=\"_parent\"><img src=\"https://colab.research.google.com/assets/colab-badge.svg\" alt=\"Open In Colab\"/></a>"
      ]
    },
    {
      "cell_type": "markdown",
      "source": [
        "# Prediction of Product Sales\n"
      ],
      "metadata": {
        "id": "eEnhZ0fK4wdf"
      }
    },
    {
      "cell_type": "markdown",
      "source": [
        "- Jaco van Wyk\n"
      ],
      "metadata": {
        "id": "bDxenNZu66Cs"
      }
    },
    {
      "cell_type": "markdown",
      "source": [
        "\n",
        "## Project Overview"
      ],
      "metadata": {
        "id": "jSdjFbph679D"
      }
    },
    {
      "cell_type": "markdown",
      "source": [],
      "metadata": {
        "id": "09N22NtN7ZC2"
      }
    },
    {
      "cell_type": "markdown",
      "source": [
        "## Load and Inspect Data"
      ],
      "metadata": {
        "id": "G3pIvO-B6-q4"
      }
    },
    {
      "cell_type": "code",
      "source": [],
      "metadata": {
        "id": "1l0bHfoE5Vqi"
      },
      "execution_count": null,
      "outputs": []
    },
    {
      "cell_type": "markdown",
      "source": [
        "## Clean Data\n"
      ],
      "metadata": {
        "id": "HWyLGMVd5WDI"
      }
    },
    {
      "cell_type": "code",
      "source": [],
      "metadata": {
        "id": "jUt7N99Q5YPO"
      },
      "execution_count": null,
      "outputs": []
    },
    {
      "cell_type": "markdown",
      "source": [
        "## Exploratory Data Analysis"
      ],
      "metadata": {
        "id": "1aszGgZX5YkQ"
      }
    },
    {
      "cell_type": "code",
      "source": [],
      "metadata": {
        "id": "adyBjQqs5gNA"
      },
      "execution_count": null,
      "outputs": []
    },
    {
      "cell_type": "markdown",
      "source": [
        "## Explanatory Data Analysis"
      ],
      "metadata": {
        "id": "MFR4_Tjr5hpi"
      }
    },
    {
      "cell_type": "code",
      "source": [],
      "metadata": {
        "id": "nCcXehLF5i2u"
      },
      "execution_count": null,
      "outputs": []
    }
  ]
}